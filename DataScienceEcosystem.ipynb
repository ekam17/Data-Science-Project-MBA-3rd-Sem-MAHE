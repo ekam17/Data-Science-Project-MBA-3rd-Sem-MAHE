{
  "metadata": {
    "kernelspec": {
      "name": "python",
      "display_name": "Python (Pyodide)",
      "language": "python"
    },
    "language_info": {
      "codemirror_mode": {
        "name": "python",
        "version": 3
      },
      "file_extension": ".py",
      "mimetype": "text/x-python",
      "name": "python",
      "nbconvert_exporter": "python",
      "pygments_lexer": "ipython3",
      "version": "3.8"
    }
  },
  "nbformat_minor": 4,
  "nbformat": 4,
  "cells": [
    {
      "cell_type": "markdown",
      "source": "#  Data Science Tools and Ecosystem",
      "metadata": {}
    },
    {
      "cell_type": "markdown",
      "source": "In this notebook, Data Science Tools and Ecosystem are summarized.",
      "metadata": {}
    },
    {
      "cell_type": "markdown",
      "source": "**Objectives:**\n* **Explore popular programming languages used by Data Scientists**.\n* **Highlight the strengths of each language.**\n* **Understanding the role of common libraries used by Data Scientists.**\n* **List some basic data science tools.**\n* **Evaluating arithmetic expressions in Python with a few examples.**",
      "metadata": {}
    },
    {
      "cell_type": "markdown",
      "source": "**Some of the popular languages that Data Scientists use are:**",
      "metadata": {}
    },
    {
      "cell_type": "markdown",
      "source": "1. **Python:** Python is a versatile and user-friendly programming language with extensive libraries like NumPy, Pandas, and Scikit-learn for data manipulation, analysis, and machine learning.\n2. **R:** R is a statistical programming language specifically designed for data analysis and visualization, with packages like ggplot2 and dplyr.\n3. **SQL:** SQL is a programming language essential for data querying and manipulation in relational databases and is often used for data extraction and cleaning.\n4. **Julia:** Julia is a free, open-source, high-level, high-performance programming language gaining popularity for its speed and ease of use in data science and scientific computing.",
      "metadata": {}
    },
    {
      "cell_type": "markdown",
      "source": "**Some of the commonly used libraries used by Data Scientists include:**\n\n1. **NumPy:** A fundamental package for numerical computations, providing support for large, multi-dimensional arrays and matrices, along with mathematical functions to operate on these arrays.\n2. **Pandas:**   \n A powerful data analysis and manipulation library built on top of NumPy, offering data structures like DataFrames and Series to efficiently handle and analyze structured data.\n3. **Scikit-learn:** A versatile machine learning library providing a wide range of algorithms for tasks like classification, regression, clustering, and model selection.\n4. **Matplotlib:** A comprehensive plotting library for creating static, animated, and interactive visualizations, enabling data scientists to explore and communicate insights effectively.\n5. **Seaborn:** A high-level statistical data visualization library built on top of Matplotlib, providing a more attractive and informative way to visualize complex datasets.",
      "metadata": {},
      "attachments": {}
    },
    {
      "cell_type": "markdown",
      "source": "| Data Science Tools |\n|---|\n| Jupyter Notebook | \n| RStudio | \n| VS Code | ",
      "metadata": {}
    },
    {
      "cell_type": "markdown",
      "source": "### Below are a few examples of evaluating arithmetic expressions in Python",
      "metadata": {}
    },
    {
      "cell_type": "code",
      "source": "# This is a simple arithmetic expression to multiply and then add integers.\nprint((3 * 4) + 5)",
      "metadata": {
        "trusted": true
      },
      "outputs": [
        {
          "name": "stdout",
          "text": "17\n",
          "output_type": "stream"
        }
      ],
      "execution_count": 16
    },
    {
      "cell_type": "code",
      "source": "# This will convert 200 minutes to hours by dividing by 60\n200 / 60",
      "metadata": {
        "trusted": true
      },
      "outputs": [
        {
          "execution_count": 17,
          "output_type": "execute_result",
          "data": {
            "text/plain": "3.3333333333333335"
          },
          "metadata": {}
        }
      ],
      "execution_count": 17
    },
    {
      "cell_type": "markdown",
      "source": "## Author\nGurekamnoor Singh Soni",
      "metadata": {}
    }
  ]
}